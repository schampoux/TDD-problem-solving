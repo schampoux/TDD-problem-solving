{
 "cells": [
  {
   "cell_type": "code",
   "execution_count": 47,
   "id": "ab1f8c6f-0106-4cb5-a52b-8cedef0dbf2d",
   "metadata": {},
   "outputs": [],
   "source": [
    "from typing import List \n",
    "\n",
    "class Solution: \n",
    "    def missingNumber(self, nums: List[int]) -> int:\n",
    "        # given an array 'nums' containing 'n' distinct dumber in the range [0, n], \n",
    "            # return the only number in the range that is missing from the array. \n",
    "        \n",
    "        # take the length of the nums, \n",
    "        # take the range from 0 to len(nums) \n",
    "        # check if each value of range(0, len(nums)) is in nums. \n",
    "            # return the value that is not. \n",
    "        \n",
    "        self.nums = nums\n",
    "        print(\"Input:\", self.nums)\n",
    "        \n",
    "        self.length = len(nums)\n",
    "        print(\"Length of input:\", self.length)\n",
    "        \n",
    "        for i in range(0, len(self.nums)+1):\n",
    "            if i in nums: \n",
    "                print(\"\\n\", i, f\"is in the input: {self.nums}\")\n",
    "                continue\n",
    "            else: \n",
    "                self.missing = i\n",
    "                print(\"\\nMissing value:\")\n",
    "                return  self.missing\n",
    "                 "
   ]
  },
  {
   "cell_type": "code",
   "execution_count": 48,
   "id": "d6e4d019-f7c3-4fed-8784-b7babdd4e4c6",
   "metadata": {},
   "outputs": [
    {
     "name": "stdout",
     "output_type": "stream",
     "text": [
      "Input: [3, 0, 1]\n",
      "Length of input: 3\n",
      "\n",
      " 0 is in the input: [3, 0, 1]\n",
      "\n",
      " 1 is in the input: [3, 0, 1]\n",
      "\n",
      "Missing value:\n",
      "2\n"
     ]
    }
   ],
   "source": [
    "# Case 1 \n",
    "\n",
    "nums = [3,0,1]\n",
    "inst = Solution()\n",
    "print(inst.missingNumber(nums=nums))"
   ]
  },
  {
   "cell_type": "code",
   "execution_count": 49,
   "id": "cd12701e-3ba0-4a65-86bb-c06b1076a5b9",
   "metadata": {},
   "outputs": [
    {
     "name": "stdout",
     "output_type": "stream",
     "text": [
      "Input: [0, 1]\n",
      "Length of input: 2\n",
      "\n",
      " 0 is in the input: [0, 1]\n",
      "\n",
      " 1 is in the input: [0, 1]\n",
      "\n",
      "Missing value:\n",
      "2\n"
     ]
    }
   ],
   "source": [
    "# Case 2 \n",
    "nums = [0,1]\n",
    "inst = Solution()\n",
    "print(inst.missingNumber(nums=nums))"
   ]
  },
  {
   "cell_type": "code",
   "execution_count": 51,
   "id": "e211f883-108c-4f51-87f4-12d1dedfa829",
   "metadata": {},
   "outputs": [
    {
     "name": "stdout",
     "output_type": "stream",
     "text": [
      "Input: [9, 6, 4, 2, 3, 5, 7, 0, 1]\n",
      "Length of input: 9\n",
      "\n",
      " 0 is in the input: [9, 6, 4, 2, 3, 5, 7, 0, 1]\n",
      "\n",
      " 1 is in the input: [9, 6, 4, 2, 3, 5, 7, 0, 1]\n",
      "\n",
      " 2 is in the input: [9, 6, 4, 2, 3, 5, 7, 0, 1]\n",
      "\n",
      " 3 is in the input: [9, 6, 4, 2, 3, 5, 7, 0, 1]\n",
      "\n",
      " 4 is in the input: [9, 6, 4, 2, 3, 5, 7, 0, 1]\n",
      "\n",
      " 5 is in the input: [9, 6, 4, 2, 3, 5, 7, 0, 1]\n",
      "\n",
      " 6 is in the input: [9, 6, 4, 2, 3, 5, 7, 0, 1]\n",
      "\n",
      " 7 is in the input: [9, 6, 4, 2, 3, 5, 7, 0, 1]\n",
      "\n",
      "Missing value:\n",
      "8\n"
     ]
    }
   ],
   "source": [
    "# case 3\n",
    "\n",
    "nums = [9,6,4,2,3,5,7,0,1]\n",
    "inst = Solution()\n",
    "print(inst.missingNumber(nums=nums))"
   ]
  },
  {
   "cell_type": "markdown",
   "id": "8eaaa065-d94c-446f-9693-9fbd0c217cdf",
   "metadata": {},
   "source": [
    "## Alternative Solution"
   ]
  },
  {
   "cell_type": "code",
   "execution_count": 65,
   "id": "0dbd2e46-d2f4-4aa2-a387-081479d332f8",
   "metadata": {},
   "outputs": [
    {
     "name": "stdout",
     "output_type": "stream",
     "text": [
      "vector: [0, 1, 2, 3, 4, 5, -1, 7]\n",
      "0\n"
     ]
    }
   ],
   "source": [
    "class Solution2:\n",
    "    def missingNumber(self, nums: List[int]) -> int:\n",
    "        n = len(nums)\n",
    "        vector = [-1] * (n+1) \n",
    "        for num in nums:\n",
    "            vector[num] = num\n",
    "        print(\"vector:\", vector)\n",
    "        for i in range(len(vector)):\n",
    "            if v[i] == -1:\n",
    "                return i\n",
    "        return 0\n",
    "                \n",
    "nums = [0,1,2,3,4,5,7]\n",
    "inst2 = Solution2()\n",
    "print(inst2.missingNumber(nums=nums))"
   ]
  }
 ],
 "metadata": {
  "kernelspec": {
   "display_name": "Python 3 (ipykernel)",
   "language": "python",
   "name": "python3"
  },
  "language_info": {
   "codemirror_mode": {
    "name": "ipython",
    "version": 3
   },
   "file_extension": ".py",
   "mimetype": "text/x-python",
   "name": "python",
   "nbconvert_exporter": "python",
   "pygments_lexer": "ipython3",
   "version": "3.12.3"
  }
 },
 "nbformat": 4,
 "nbformat_minor": 5
}
